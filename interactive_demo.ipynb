{
 "cells": [
  {
   "cell_type": "code",
   "execution_count": null,
   "metadata": {},
   "outputs": [],
   "source": [
    "import sys\n",
    "\n",
    "import cv2\n",
    "import gymnasium as gym\n",
    "\n",
    "from tetris_gymnasium.envs import Tetris\n",
    "\n",
    "# Create an instance of Tetris\n",
    "env = gym.make(\"tetris_gymnasium/Tetris\", render_mode=\"human\")\n",
    "env.reset(seed=42)\n",
    "\n",
    "# Main game loop\n",
    "terminated = False\n",
    "while not terminated:\n",
    "    # Render the current state of the game as text\n",
    "    env.render()\n",
    "\n",
    "    # Pick an action from user input mapped to the keyboard\n",
    "    action = None\n",
    "    while action is None:\n",
    "        key = cv2.waitKey(1)\n",
    "\n",
    "        if key == ord(\"a\"):\n",
    "            action = env.unwrapped.actions.move_left\n",
    "        elif key == ord(\"d\"):\n",
    "            action = env.unwrapped.actions.move_right\n",
    "        elif key == ord(\"s\"):\n",
    "            action = env.unwrapped.actions.move_down\n",
    "        elif key == ord(\"w\"):\n",
    "            action = env.unwrapped.actions.rotate_counterclockwise\n",
    "        elif key == ord(\"e\"):\n",
    "            action = env.unwrapped.actions.rotate_clockwise\n",
    "        elif key == ord(\" \"):\n",
    "            action = env.unwrapped.actions.hard_drop\n",
    "        elif key == ord(\"q\"):\n",
    "            action = env.unwrapped.actions.swap\n",
    "        elif key == ord(\"r\"):\n",
    "            env.reset(seed=42)\n",
    "            break\n",
    "\n",
    "        if (\n",
    "            cv2.getWindowProperty(env.unwrapped.window_name, cv2.WND_PROP_VISIBLE)\n",
    "            == 0\n",
    "        ):\n",
    "            sys.exit()\n",
    "\n",
    "    # Perform the action\n",
    "    observation, reward, terminated, truncated, info = env.step(action)\n",
    "\n",
    "# Game over\n",
    "print(\"Game Over!\")"
   ]
  }
 ],
 "metadata": {
  "kernelspec": {
   "display_name": "venv",
   "language": "python",
   "name": "python3"
  },
  "language_info": {
   "codemirror_mode": {
    "name": "ipython",
    "version": 3
   },
   "file_extension": ".py",
   "mimetype": "text/x-python",
   "name": "python",
   "nbconvert_exporter": "python",
   "pygments_lexer": "ipython3",
   "version": "3.10.12"
  }
 },
 "nbformat": 4,
 "nbformat_minor": 2
}
