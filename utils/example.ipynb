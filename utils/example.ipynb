{
 "cells": [
  {
   "cell_type": "code",
   "execution_count": null,
   "metadata": {},
   "outputs": [
    {
     "name": "stderr",
     "output_type": "stream",
     "text": [
      "2024-11-14 15:19:20.368 Python[48257:1191112] ApplePersistenceIgnoreState: Existing state will not be touched. New state will be written to /var/folders/x4/ckl90xpx0zx_zswh2fb3bhgr0000gn/T/org.python.python.savedState\n",
      "2024-11-14 15:19:20.714 Python[48257:1191112] +[IMKClient subclass]: chose IMKClient_Modern\n",
      "2024-11-14 15:19:20.714 Python[48257:1191112] +[IMKInputSession subclass]: chose IMKInputSession_Modern\n"
     ]
    }
   ],
   "source": [
    "from tetris_gymnasium.envs import *\n",
    "import gymnasium as gym\n",
    "\n",
    "import numpy as np\n",
    "import cv2\n",
    "import sys\n",
    "\n",
    "\n",
    "# Create an instance of Tetris\n",
    "env = gym.make(\"tetris_gymnasium/Tetris\", render_mode=\"human\", render_upscale=20)\n",
    "env.reset(seed=42)\n",
    "\n",
    "\n",
    "# Main game loop\n",
    "terminated = False\n",
    "while not terminated:\n",
    "    # Render the current state of the game as text\n",
    "    env.render()\n",
    "\n",
    "\n",
    "    # Pick an action from user input mapped to the keyboard\n",
    "    action = None\n",
    "    while action is None:\n",
    "        key = cv2.waitKey(1)\n",
    "\n",
    "        if key == ord(\"a\"):\n",
    "            action = env.unwrapped.actions.move_left\n",
    "        elif key == ord(\"d\"):\n",
    "            action = env.unwrapped.actions.move_right\n",
    "        elif key == ord(\"s\"):\n",
    "            action = env.unwrapped.actions.move_down\n",
    "        elif key == ord(\"w\"):\n",
    "            action = env.unwrapped.actions.rotate_counterclockwise\n",
    "        elif key == ord(\"e\"):\n",
    "            action = env.unwrapped.actions.rotate_clockwise\n",
    "        elif key == ord(\" \"):\n",
    "            action = env.unwrapped.actions.hard_drop\n",
    "        elif key == ord(\"q\"):\n",
    "            action = env.unwrapped.actions.swap\n",
    "        elif key == ord(\"r\"):\n",
    "            env.reset(seed=42)\n",
    "            break\n",
    "\n",
    "        if (cv2.getWindowProperty(env.unwrapped.window_name, cv2.WND_PROP_VISIBLE) == 0):\n",
    "            sys.exit()\n",
    "\n",
    "\n",
    "    # Perform the action\n",
    "    observation, reward, terminated, truncated, info = env.step(action)\n",
    "    observation['action'] = action\n",
    "    observation['reward'] = reward\n",
    "    observation['terminated'] = terminated\n",
    "    observation['info'] = info\n",
    "\n",
    "\n",
    "# Game over\n",
    "print(\"Game Over!\")"
   ]
  }
 ],
 "metadata": {
  "kernelspec": {
   "display_name": "venv",
   "language": "python",
   "name": "python3"
  },
  "language_info": {
   "codemirror_mode": {
    "name": "ipython",
    "version": 3
   },
   "file_extension": ".py",
   "mimetype": "text/x-python",
   "name": "python",
   "nbconvert_exporter": "python",
   "pygments_lexer": "ipython3",
   "version": "3.10.15"
  }
 },
 "nbformat": 4,
 "nbformat_minor": 2
}
